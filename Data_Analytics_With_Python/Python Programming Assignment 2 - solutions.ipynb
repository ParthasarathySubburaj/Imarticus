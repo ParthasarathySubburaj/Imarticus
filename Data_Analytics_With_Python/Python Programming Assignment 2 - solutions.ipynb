{
 "cells": [
  {
   "cell_type": "code",
   "execution_count": 4,
   "metadata": {
    "collapsed": true
   },
   "outputs": [],
   "source": [
    "import pandas as pd\n",
    "import numpy as np"
   ]
  },
  {
   "cell_type": "code",
   "execution_count": 5,
   "metadata": {
    "collapsed": true
   },
   "outputs": [],
   "source": [
    "class income_tax_finder():\n",
    "    \n",
    "    def __init__(self,path):\n",
    "        self.data = pd.read_csv(path)\n",
    "        self.total_number_of_people = self.data.shape[0]\n",
    "        self.total_income = self.compute_total_income()\n",
    "        self.per_capita_income = self.total_income/self.total_number_of_people\n",
    "        \n",
    "    def compute_total_income (self):\n",
    "        self.data[\"Total_income\"] = self.data[\"Income_from_employee\"] + self.data[\"Income_from_Bank_interest\"] + self.data[\"Income_from_agriculture_land\"]\n",
    "        total_income = sum(self.data[\"Total_income\"])\n",
    "        return total_income\n",
    "    \n",
    "    def compute_income_tax (self):\n",
    "        self.data[\"Income_tax\"] = self.data[\"Total_income\"].apply(self.tax_finder)\n",
    "        \n",
    "    def tax_finder (self, income):\n",
    "        if (income < 300000):\n",
    "            tax = 0\n",
    "            return tax\n",
    "        elif (income <1000000 and income >300000):\n",
    "            tax = 0.2*(income - 300000)\n",
    "            return tax\n",
    "        else:\n",
    "            tax = 0.3*(income - 1000000) + 0.2*700000\n",
    "            return tax\n",
    "    \n",
    "    def income_tax_query(self, pan):\n",
    "        tax = self.data[self.data[\"PAN_Number\"]==pan][\"Income_tax\"]\n",
    "        return tax"
   ]
  },
  {
   "cell_type": "code",
   "execution_count": 6,
   "metadata": {},
   "outputs": [],
   "source": [
    "A = income_tax_finder(\"./Data/Income_tax.csv\")"
   ]
  },
  {
   "cell_type": "code",
   "execution_count": 7,
   "metadata": {},
   "outputs": [],
   "source": [
    "A.compute_income_tax()"
   ]
  },
  {
   "cell_type": "code",
   "execution_count": 8,
   "metadata": {},
   "outputs": [
    {
     "data": {
      "text/plain": [
       "1    494354.0\n",
       "Name: Income_tax, dtype: float64"
      ]
     },
     "execution_count": 8,
     "metadata": {},
     "output_type": "execute_result"
    }
   ],
   "source": [
    "A.income_tax_query(\"AB101\")"
   ]
  }
 ],
 "metadata": {
  "kernelspec": {
   "display_name": "Python 3",
   "language": "python",
   "name": "python3"
  },
  "language_info": {
   "codemirror_mode": {
    "name": "ipython",
    "version": 3
   },
   "file_extension": ".py",
   "mimetype": "text/x-python",
   "name": "python",
   "nbconvert_exporter": "python",
   "pygments_lexer": "ipython3",
   "version": "3.6.7"
  }
 },
 "nbformat": 4,
 "nbformat_minor": 2
}
