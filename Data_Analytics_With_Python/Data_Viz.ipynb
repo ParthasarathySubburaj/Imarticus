{
 "cells": [
  {
   "cell_type": "code",
   "execution_count": 3,
   "metadata": {},
   "outputs": [],
   "source": [
    "import pandas as pd\n",
    "import numpy as np\n",
    "import matplotlib.pyplot as plt"
   ]
  },
  {
   "cell_type": "markdown",
   "metadata": {},
   "source": [
    "# Line chart"
   ]
  },
  {
   "cell_type": "code",
   "execution_count": null,
   "metadata": {},
   "outputs": [],
   "source": [
    "year = np.array([1900,1950,2000,2050,2100,2150])\n",
    "population = np.array([2.3, 4, 6.5, 8, 10, 9])\n",
    "plt.plot(year,population)\n",
    "plt.ylabel('Population (milion)')\n",
    "plt.xlabel('year')\n",
    "plt.show()"
   ]
  },
  {
   "cell_type": "code",
   "execution_count": null,
   "metadata": {},
   "outputs": [],
   "source": [
    "year = np.array([1900,1950,2000,2050,2100,2150])\n",
    "population = np.array([2.3, 4, 6.5, 8, 10, 9])\n",
    "plt.plot(year,population, label='population trend', linewidth=5)\n",
    "plt.ylabel('Population (milion)')\n",
    "plt.xlabel('year')\n",
    "plt.title('World Population Growth')\n",
    "plt.legend()\n",
    "plt.show()"
   ]
  },
  {
   "cell_type": "code",
   "execution_count": null,
   "metadata": {},
   "outputs": [],
   "source": [
    "year = np.array([1900,1950,2000,2050,2100,2150])\n",
    "population = np.array([2.3, 4, 6.5, 8, 10, 9])\n",
    "plt.plot(year,population, label='population trend', marker='o', color='r')\n",
    "plt.ylabel('Population (milion)')\n",
    "plt.xlabel('year')\n",
    "plt.title('World Population Growth')\n",
    "plt.legend()   \n",
    "plt.show()"
   ]
  },
  {
   "cell_type": "code",
   "execution_count": null,
   "metadata": {},
   "outputs": [],
   "source": [
    "year = np.array([1900,1950,2000,2050,2100,2150])\n",
    "population_human = np.array([2.3, 4, 6.5, 8, 10, 9])\n",
    "population_trees = np.array([10,8,7,6,4,1])\n",
    "plt.plot(year,population_human, label='human population', marker='o', color='r')\n",
    "plt.plot(year,population_trees, label='tree population', marker='o', color='g')\n",
    "plt.ylabel('Population (milion)')\n",
    "plt.xlabel('year')\n",
    "plt.title('World Population Growth')\n",
    "plt.legend(loc=8)   \n",
    "plt.show()"
   ]
  },
  {
   "cell_type": "markdown",
   "metadata": {},
   "source": [
    "# Scatter plot"
   ]
  },
  {
   "cell_type": "code",
   "execution_count": null,
   "metadata": {},
   "outputs": [],
   "source": [
    "Age = np.array([10,5,20,25,17,30])              #Discuss correlation\n",
    "Height = np.array([150,120,170,165,155,180])\n",
    "\n",
    "plt.scatter(Age,Height, label='Age-Height', color='k', s=25, marker=\"o\")\n",
    "\n",
    "plt.xlabel('Age')\n",
    "plt.ylabel('Height')\n",
    "plt.title('Age-height graph')\n",
    "plt.legend()\n",
    "plt.show()"
   ]
  },
  {
   "cell_type": "code",
   "execution_count": null,
   "metadata": {},
   "outputs": [],
   "source": [
    "Age = np.array([10,5,20,25,17,30])\n",
    "Height = np.array([150,120,170,165,155,180])\n",
    "Weight = np.array([40,20,100,50,55,60])\n",
    "plt.scatter(Age,Height, label='Age-Height', color='r', s=4*Weight, marker=\"o\")\n",
    "\n",
    "plt.xlabel('Age')\n",
    "plt.ylabel('Height')\n",
    "plt.title('Age-height graph')\n",
    "plt.legend()\n",
    "plt.show()"
   ]
  },
  {
   "cell_type": "markdown",
   "metadata": {},
   "source": [
    "# Bar Chart"
   ]
  },
  {
   "cell_type": "code",
   "execution_count": null,
   "metadata": {},
   "outputs": [],
   "source": [
    "countries = np.arange(6)\n",
    "population= np.array([10, 4, 6.5, 8, 1, 9])\n",
    "\n",
    "plt.bar(countries,population, label='human population')\n",
    "\n",
    "plt.ylabel('Population (milion)')\n",
    "plt.xlabel('year')\n",
    "plt.title('Population in countries')\n",
    "plt.xticks(countries, [\"India\", \"USA\", \"Germany\", \"China\", \"UK\", \"Italy\"])\n",
    "plt.legend()   \n",
    "plt.show()"
   ]
  },
  {
   "cell_type": "code",
   "execution_count": null,
   "metadata": {},
   "outputs": [],
   "source": []
  },
  {
   "cell_type": "code",
   "execution_count": null,
   "metadata": {},
   "outputs": [],
   "source": [
    "countries = np.arange(6)\n",
    "population= np.array([10, 4, 6.5, 8, 1, 9])\n",
    "GDP = np.array([120, 80, 200, 160, 40, 80])\n",
    "\n",
    "fig, ax1 = plt.subplots()\n",
    "ax2 = ax1.twinx()\n",
    "\n",
    "ax1.bar(countries,population, label='human population')\n",
    "ax2.plot(countries, GDP, label='GDP', color='r' )\n",
    "ax1.set_ylabel('Population (milion)')\n",
    "ax2.set_ylabel('GDP (billions)')\n",
    "plt.title('Population and GDP in countries')\n",
    "plt.xticks(countries, [\"India\", \"USA\", \"Germany\", \"China\", \"UK\", \"Italy\"])\n",
    "ax1.legend()   \n",
    "ax2.legend()\n",
    "plt.show()"
   ]
  },
  {
   "cell_type": "code",
   "execution_count": null,
   "metadata": {},
   "outputs": [],
   "source": [
    "countries = np.arange(6)\n",
    "population_male= np.array([10, 4, 6.5, 8, 1, 9])\n",
    "population_female= np.array([8, 6, 8, 5, 1.5, 9])\n",
    "\n",
    "plt.bar(countries,population_male, label='male population', width = .25)\n",
    "plt.bar(countries+0.25,population_female, label='female population',width = 0.25)\n",
    "\n",
    "plt.ylabel('Population (milion)')\n",
    "plt.xlabel('year')\n",
    "plt.title('Population in countries')\n",
    "plt.xticks(countries, [\"India\", \"USA\", \"Germany\", \"China\", \"UK\", \"Italy\"])\n",
    "plt.legend()   \n",
    "plt.show()"
   ]
  },
  {
   "cell_type": "markdown",
   "metadata": {},
   "source": [
    "# Histogram"
   ]
  },
  {
   "cell_type": "code",
   "execution_count": null,
   "metadata": {},
   "outputs": [],
   "source": [
    "population_ages = [22,55,62,45,21,22,34,42,42,4,99,102,110,120,121,122,130,111,115,112,80,75,65,54,44,43,42,48]\n",
    "\n",
    "bins = [0,10,20,30,40,50,60,70,80,90,100,110,120,130]\n",
    "\n",
    "plt.hist(population_ages, bins, histtype='bar', rwidth=0.8, label = \"population\")\n",
    "\n",
    "plt.xlabel('Bins')\n",
    "plt.ylabel('Frequency')\n",
    "plt.title('distribution of population')\n",
    "plt.legend()\n",
    "plt.show()"
   ]
  },
  {
   "cell_type": "code",
   "execution_count": null,
   "metadata": {},
   "outputs": [],
   "source": [
    "population_ages = np.random.normal(0,2,10000)    # np.random.exponential(5,10000)\n",
    "\n",
    "bins = np.arange(-7,7)                           # np.arange(0,30)\n",
    "\n",
    "plt.hist(population_ages, bins, histtype='bar', rwidth=0.8, label = \"population\")\n",
    "\n",
    "plt.xlabel('Bins')\n",
    "plt.ylabel('Frequency')\n",
    "plt.title('distribution of population')\n",
    "plt.legend()\n",
    "plt.show()"
   ]
  },
  {
   "cell_type": "markdown",
   "metadata": {},
   "source": [
    "# Pie charts"
   ]
  },
  {
   "cell_type": "code",
   "execution_count": null,
   "metadata": {},
   "outputs": [],
   "source": [
    "population = np.array([10, 4, 6.5, 8])\n",
    "countries = np.array([\"India\", \"Sri Lanka\", \"UK\", \"USA\" ])\n",
    "\n",
    "cols = ['c','m','r','b']\n",
    "\n",
    "plt.pie(population,\n",
    "        labels=countries,\n",
    "        colors=cols,       #explode=(0.2,0.1,0,0)\n",
    "        autopct='%.2f%%')\n",
    "\n",
    "plt.title('Population distribution')\n",
    "plt.show()"
   ]
  },
  {
   "cell_type": "code",
   "execution_count": null,
   "metadata": {},
   "outputs": [],
   "source": [
    "marks_maths = np.random.randint(50,100,100)\n",
    "marks_science = np.random.randint(60,100,100)\n",
    "plt.boxplot([marks_maths, marks_science], labels= np.array([\"Maths Marks\", \"Science Marks\"]))\n",
    "plt.show()"
   ]
  },
  {
   "cell_type": "code",
   "execution_count": 8,
   "metadata": {},
   "outputs": [],
   "source": [
    "data = pd.read_csv(\"./Data/Correlation.csv\")"
   ]
  },
  {
   "cell_type": "code",
   "execution_count": 9,
   "metadata": {},
   "outputs": [],
   "source": [
    "corr_matrix = data.corr()"
   ]
  },
  {
   "cell_type": "code",
   "execution_count": 10,
   "metadata": {},
   "outputs": [
    {
     "data": {
      "text/html": [
       "<div>\n",
       "<style>\n",
       "    .dataframe thead tr:only-child th {\n",
       "        text-align: right;\n",
       "    }\n",
       "\n",
       "    .dataframe thead th {\n",
       "        text-align: left;\n",
       "    }\n",
       "\n",
       "    .dataframe tbody tr th {\n",
       "        vertical-align: top;\n",
       "    }\n",
       "</style>\n",
       "<table border=\"1\" class=\"dataframe\">\n",
       "  <thead>\n",
       "    <tr style=\"text-align: right;\">\n",
       "      <th></th>\n",
       "      <th>Income</th>\n",
       "      <th>Weight</th>\n",
       "      <th>Height</th>\n",
       "      <th>Bank_Bal</th>\n",
       "      <th>Expense</th>\n",
       "    </tr>\n",
       "  </thead>\n",
       "  <tbody>\n",
       "    <tr>\n",
       "      <th>Income</th>\n",
       "      <td>1.000000</td>\n",
       "      <td>0.998087</td>\n",
       "      <td>0.085225</td>\n",
       "      <td>0.912011</td>\n",
       "      <td>0.999971</td>\n",
       "    </tr>\n",
       "    <tr>\n",
       "      <th>Weight</th>\n",
       "      <td>0.998087</td>\n",
       "      <td>1.000000</td>\n",
       "      <td>0.090541</td>\n",
       "      <td>0.907634</td>\n",
       "      <td>0.998025</td>\n",
       "    </tr>\n",
       "    <tr>\n",
       "      <th>Height</th>\n",
       "      <td>0.085225</td>\n",
       "      <td>0.090541</td>\n",
       "      <td>1.000000</td>\n",
       "      <td>0.137631</td>\n",
       "      <td>0.086208</td>\n",
       "    </tr>\n",
       "    <tr>\n",
       "      <th>Bank_Bal</th>\n",
       "      <td>0.912011</td>\n",
       "      <td>0.907634</td>\n",
       "      <td>0.137631</td>\n",
       "      <td>1.000000</td>\n",
       "      <td>0.911769</td>\n",
       "    </tr>\n",
       "    <tr>\n",
       "      <th>Expense</th>\n",
       "      <td>0.999971</td>\n",
       "      <td>0.998025</td>\n",
       "      <td>0.086208</td>\n",
       "      <td>0.911769</td>\n",
       "      <td>1.000000</td>\n",
       "    </tr>\n",
       "  </tbody>\n",
       "</table>\n",
       "</div>"
      ],
      "text/plain": [
       "            Income    Weight    Height  Bank_Bal   Expense\n",
       "Income    1.000000  0.998087  0.085225  0.912011  0.999971\n",
       "Weight    0.998087  1.000000  0.090541  0.907634  0.998025\n",
       "Height    0.085225  0.090541  1.000000  0.137631  0.086208\n",
       "Bank_Bal  0.912011  0.907634  0.137631  1.000000  0.911769\n",
       "Expense   0.999971  0.998025  0.086208  0.911769  1.000000"
      ]
     },
     "execution_count": 10,
     "metadata": {},
     "output_type": "execute_result"
    }
   ],
   "source": [
    "corr_matrix"
   ]
  },
  {
   "cell_type": "code",
   "execution_count": 12,
   "metadata": {},
   "outputs": [
    {
     "data": {
      "image/png": "[encoded data removed]",
      "text/plain": [
       "<matplotlib.figure.Figure at 0x996e518>"
      ]
     },
     "metadata": {},
     "output_type": "display_data"
    }
   ],
   "source": [
    "plt.matshow(corr_matrix)\n",
    "plt.show()"
   ]
  },
  {
   "cell_type": "code",
   "execution_count": 16,
   "metadata": {},
   "outputs": [],
   "source": [
    "path = 'http://archive.ics.uci.edu/ml/machine-learning-databases/auto-mpg/auto-mpg.data'\n",
    "\n",
    "mpg_data = pd.read_csv(path, delim_whitespace=True, header=None,\n",
    "            names = ['mpg', 'cylinders', 'displacement','horsepower',\n",
    "            'weight', 'acceleration', 'model_year', 'origin', 'name'],\n",
    "            na_values='?')"
   ]
  },
  {
   "cell_type": "code",
   "execution_count": 27,
   "metadata": {},
   "outputs": [],
   "source": [
    "mpg_data = mpg_data[['mpg', 'cylinders', 'acceleration', 'displacement','horsepower','weight' ]]"
   ]
  },
  {
   "cell_type": "code",
   "execution_count": 28,
   "metadata": {},
   "outputs": [],
   "source": [
    "corr_data = mpg_data.corr()"
   ]
  },
  {
   "cell_type": "code",
   "execution_count": 29,
   "metadata": {},
   "outputs": [
    {
     "data": {
      "text/html": [
       "<div>\n",
       "<style>\n",
       "    .dataframe thead tr:only-child th {\n",
       "        text-align: right;\n",
       "    }\n",
       "\n",
       "    .dataframe thead th {\n",
       "        text-align: left;\n",
       "    }\n",
       "\n",
       "    .dataframe tbody tr th {\n",
       "        vertical-align: top;\n",
       "    }\n",
       "</style>\n",
       "<table border=\"1\" class=\"dataframe\">\n",
       "  <thead>\n",
       "    <tr style=\"text-align: right;\">\n",
       "      <th></th>\n",
       "      <th>mpg</th>\n",
       "      <th>cylinders</th>\n",
       "      <th>acceleration</th>\n",
       "      <th>displacement</th>\n",
       "      <th>horsepower</th>\n",
       "      <th>weight</th>\n",
       "    </tr>\n",
       "  </thead>\n",
       "  <tbody>\n",
       "    <tr>\n",
       "      <th>mpg</th>\n",
       "      <td>1.000000</td>\n",
       "      <td>-0.775396</td>\n",
       "      <td>0.420289</td>\n",
       "      <td>-0.804203</td>\n",
       "      <td>-0.778427</td>\n",
       "      <td>-0.831741</td>\n",
       "    </tr>\n",
       "    <tr>\n",
       "      <th>cylinders</th>\n",
       "      <td>-0.775396</td>\n",
       "      <td>1.000000</td>\n",
       "      <td>-0.505419</td>\n",
       "      <td>0.950721</td>\n",
       "      <td>0.842983</td>\n",
       "      <td>0.896017</td>\n",
       "    </tr>\n",
       "    <tr>\n",
       "      <th>acceleration</th>\n",
       "      <td>0.420289</td>\n",
       "      <td>-0.505419</td>\n",
       "      <td>1.000000</td>\n",
       "      <td>-0.543684</td>\n",
       "      <td>-0.689196</td>\n",
       "      <td>-0.417457</td>\n",
       "    </tr>\n",
       "    <tr>\n",
       "      <th>displacement</th>\n",
       "      <td>-0.804203</td>\n",
       "      <td>0.950721</td>\n",
       "      <td>-0.543684</td>\n",
       "      <td>1.000000</td>\n",
       "      <td>0.897257</td>\n",
       "      <td>0.932824</td>\n",
       "    </tr>\n",
       "    <tr>\n",
       "      <th>horsepower</th>\n",
       "      <td>-0.778427</td>\n",
       "      <td>0.842983</td>\n",
       "      <td>-0.689196</td>\n",
       "      <td>0.897257</td>\n",
       "      <td>1.000000</td>\n",
       "      <td>0.864538</td>\n",
       "    </tr>\n",
       "    <tr>\n",
       "      <th>weight</th>\n",
       "      <td>-0.831741</td>\n",
       "      <td>0.896017</td>\n",
       "      <td>-0.417457</td>\n",
       "      <td>0.932824</td>\n",
       "      <td>0.864538</td>\n",
       "      <td>1.000000</td>\n",
       "    </tr>\n",
       "  </tbody>\n",
       "</table>\n",
       "</div>"
      ],
      "text/plain": [
       "                   mpg  cylinders  acceleration  displacement  horsepower  \\\n",
       "mpg           1.000000  -0.775396      0.420289     -0.804203   -0.778427   \n",
       "cylinders    -0.775396   1.000000     -0.505419      0.950721    0.842983   \n",
       "acceleration  0.420289  -0.505419      1.000000     -0.543684   -0.689196   \n",
       "displacement -0.804203   0.950721     -0.543684      1.000000    0.897257   \n",
       "horsepower   -0.778427   0.842983     -0.689196      0.897257    1.000000   \n",
       "weight       -0.831741   0.896017     -0.417457      0.932824    0.864538   \n",
       "\n",
       "                weight  \n",
       "mpg          -0.831741  \n",
       "cylinders     0.896017  \n",
       "acceleration -0.417457  \n",
       "displacement  0.932824  \n",
       "horsepower    0.864538  \n",
       "weight        1.000000  "
      ]
     },
     "execution_count": 29,
     "metadata": {},
     "output_type": "execute_result"
    }
   ],
   "source": [
    "corr_data"
   ]
  },
  {
   "cell_type": "code",
   "execution_count": 39,
   "metadata": {},
   "outputs": [
    {
     "data": {
      "image/png": "[encoded data removed]",
      "text/plain": [
       "<matplotlib.figure.Figure at 0x9ca2a20>"
      ]
     },
     "metadata": {},
     "output_type": "display_data"
    }
   ],
   "source": [
    "plt.matshow(corr_data)\n",
    "plt.colorbar()\n",
    "plt.xticks(range(len(corr_data.columns)), corr_data.columns,rotation=45)\n",
    "plt.yticks(range(len(corr_data.columns)), corr_data.columns)\n",
    "plt.show()"
   ]
  },
  {
   "cell_type": "code",
   "execution_count": null,
   "metadata": {
    "collapsed": true
   },
   "outputs": [],
   "source": [
    "plt.savefig(\"\")"
   ]
  }
 ],
 "metadata": {
  "kernelspec": {
   "display_name": "Python 3",
   "language": "python",
   "name": "python3"
  },
  "language_info": {
   "codemirror_mode": {
    "name": "ipython",
    "version": 3
   },
   "file_extension": ".py",
   "mimetype": "text/x-python",
   "name": "python",
   "nbconvert_exporter": "python",
   "pygments_lexer": "ipython3",
   "version": "3.6.7"
  }
 },
 "nbformat": 4,
 "nbformat_minor": 2
}
