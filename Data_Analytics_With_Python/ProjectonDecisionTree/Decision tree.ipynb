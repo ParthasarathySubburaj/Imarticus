{
 "cells": [
  {
   "cell_type": "code",
   "execution_count": 139,
   "metadata": {
    "collapsed": true
   },
   "outputs": [],
   "source": [
    "import pandas as pd\n",
    "import numpy as np\n",
    "from sklearn.tree import DecisionTreeClassifier\n",
    "from sklearn.model_selection import train_test_split\n",
    "from sklearn import preprocessing"
   ]
  },
  {
   "cell_type": "code",
   "execution_count": 23,
   "metadata": {
    "collapsed": true
   },
   "outputs": [],
   "source": [
    "Data = pd.read_csv(\"iris.csv\")"
   ]
  },
  {
   "cell_type": "code",
   "execution_count": 24,
   "metadata": {},
   "outputs": [],
   "source": [
    "Y = Data[\"species\"]"
   ]
  },
  {
   "cell_type": "code",
   "execution_count": 25,
   "metadata": {
    "collapsed": true
   },
   "outputs": [],
   "source": [
    "le = preprocessing.LabelEncoder()"
   ]
  },
  {
   "cell_type": "code",
   "execution_count": 26,
   "metadata": {},
   "outputs": [],
   "source": [
    "Y_coded = le.fit_transform(Y)"
   ]
  },
  {
   "cell_type": "code",
   "execution_count": 16,
   "metadata": {},
   "outputs": [],
   "source": [
    "X = Data.drop([\"species\"], axis=1)"
   ]
  },
  {
   "cell_type": "code",
   "execution_count": 30,
   "metadata": {},
   "outputs": [],
   "source": [
    "X_train, X_test, y_train, y_test = train_test_split(X, Y_coded, test_size=0.33, random_state=42)"
   ]
  },
  {
   "cell_type": "code",
   "execution_count": 73,
   "metadata": {
    "collapsed": true
   },
   "outputs": [],
   "source": [
    "decision_tree = DecisionTreeClassifier(random_state=0, max_depth=10)  ## try for max_depth 1, 5, 10"
   ]
  },
  {
   "cell_type": "code",
   "execution_count": 74,
   "metadata": {},
   "outputs": [
    {
     "data": {
      "text/plain": [
       "DecisionTreeClassifier(class_weight=None, criterion='gini', max_depth=10,\n",
       "            max_features=None, max_leaf_nodes=None,\n",
       "            min_impurity_decrease=0.0, min_impurity_split=None,\n",
       "            min_samples_leaf=1, min_samples_split=2,\n",
       "            min_weight_fraction_leaf=0.0, presort=False, random_state=0,\n",
       "            splitter='best')"
      ]
     },
     "execution_count": 74,
     "metadata": {},
     "output_type": "execute_result"
    }
   ],
   "source": [
    "decision_tree.fit(X_train, y_train)"
   ]
  },
  {
   "cell_type": "code",
   "execution_count": 75,
   "metadata": {},
   "outputs": [
    {
     "data": {
      "text/plain": [
       "1.0"
      ]
     },
     "execution_count": 75,
     "metadata": {},
     "output_type": "execute_result"
    }
   ],
   "source": [
    "decision_tree.score(X_train, y_train)"
   ]
  },
  {
   "cell_type": "code",
   "execution_count": 76,
   "metadata": {},
   "outputs": [
    {
     "data": {
      "text/plain": [
       "0.96"
      ]
     },
     "execution_count": 76,
     "metadata": {},
     "output_type": "execute_result"
    }
   ],
   "source": [
    "decision_tree.score(X_test, y_test)"
   ]
  },
  {
   "cell_type": "code",
   "execution_count": null,
   "metadata": {
    "collapsed": true
   },
   "outputs": [],
   "source": []
  },
  {
   "cell_type": "code",
   "execution_count": 78,
   "metadata": {},
   "outputs": [],
   "source": [
    "raw_data = pd.read_csv(\"German_Credit.csv\")"
   ]
  },
  {
   "cell_type": "code",
   "execution_count": 79,
   "metadata": {
    "collapsed": true
   },
   "outputs": [],
   "source": [
    "y = raw_data[\"Creditability\"]\n",
    "data = raw_data.drop([\"Creditability\"], axis=1)"
   ]
  },
  {
   "cell_type": "code",
   "execution_count": 80,
   "metadata": {
    "collapsed": true
   },
   "outputs": [],
   "source": [
    "data[\"Telephone\"] = data['Telephone'].astype(str)\n",
    "data[\"Status_of_existing_account\"] = data['Status_of_existing_account'].astype(str)\n",
    "data[\"Purpose_of_loan\"] = data['Purpose_of_loan'].astype(str)\n",
    "data[\"Property\"] = data['Property'].astype(str)"
   ]
  },
  {
   "cell_type": "code",
   "execution_count": 81,
   "metadata": {
    "collapsed": true
   },
   "outputs": [],
   "source": [
    "data_cat = data[[\"Telephone\", \"Status_of_existing_account\", \"Purpose_of_loan\", \"Property\"]]\n",
    "data_cont  = data.drop([\"Telephone\", \"Status_of_existing_account\", \"Purpose_of_loan\", \"Property\"], axis=1)"
   ]
  },
  {
   "cell_type": "code",
   "execution_count": 83,
   "metadata": {},
   "outputs": [
    {
     "data": {
      "text/html": [
       "<div>\n",
       "<style>\n",
       "    .dataframe thead tr:only-child th {\n",
       "        text-align: right;\n",
       "    }\n",
       "\n",
       "    .dataframe thead th {\n",
       "        text-align: left;\n",
       "    }\n",
       "\n",
       "    .dataframe tbody tr th {\n",
       "        vertical-align: top;\n",
       "    }\n",
       "</style>\n",
       "<table border=\"1\" class=\"dataframe\">\n",
       "  <thead>\n",
       "    <tr style=\"text-align: right;\">\n",
       "      <th></th>\n",
       "      <th>Total</th>\n",
       "      <th>Percent</th>\n",
       "    </tr>\n",
       "  </thead>\n",
       "  <tbody>\n",
       "    <tr>\n",
       "      <th>Credit_Amount</th>\n",
       "      <td>24</td>\n",
       "      <td>0.024</td>\n",
       "    </tr>\n",
       "    <tr>\n",
       "      <th>Duration_of_Credit_month</th>\n",
       "      <td>11</td>\n",
       "      <td>0.011</td>\n",
       "    </tr>\n",
       "    <tr>\n",
       "      <th>Payment_Status_of_Previous_Credit(Credit_history)</th>\n",
       "      <td>10</td>\n",
       "      <td>0.010</td>\n",
       "    </tr>\n",
       "    <tr>\n",
       "      <th>Age_in_years</th>\n",
       "      <td>7</td>\n",
       "      <td>0.007</td>\n",
       "    </tr>\n",
       "    <tr>\n",
       "      <th>Concurrent_Credits</th>\n",
       "      <td>6</td>\n",
       "      <td>0.006</td>\n",
       "    </tr>\n",
       "    <tr>\n",
       "      <th>Sex_&amp;_Marital_Status</th>\n",
       "      <td>6</td>\n",
       "      <td>0.006</td>\n",
       "    </tr>\n",
       "    <tr>\n",
       "      <th>Percentage_of_disposable_income</th>\n",
       "      <td>6</td>\n",
       "      <td>0.006</td>\n",
       "    </tr>\n",
       "    <tr>\n",
       "      <th>No_of_Credits_at_this__Bank</th>\n",
       "      <td>4</td>\n",
       "      <td>0.004</td>\n",
       "    </tr>\n",
       "    <tr>\n",
       "      <th>Housing</th>\n",
       "      <td>4</td>\n",
       "      <td>0.004</td>\n",
       "    </tr>\n",
       "    <tr>\n",
       "      <th>No_of_dependents</th>\n",
       "      <td>3</td>\n",
       "      <td>0.003</td>\n",
       "    </tr>\n",
       "    <tr>\n",
       "      <th>Occupation</th>\n",
       "      <td>1</td>\n",
       "      <td>0.001</td>\n",
       "    </tr>\n",
       "    <tr>\n",
       "      <th>Duration_in_Present_Residence</th>\n",
       "      <td>1</td>\n",
       "      <td>0.001</td>\n",
       "    </tr>\n",
       "    <tr>\n",
       "      <th>Guarantors/Debtors</th>\n",
       "      <td>1</td>\n",
       "      <td>0.001</td>\n",
       "    </tr>\n",
       "    <tr>\n",
       "      <th>Years_of_Present_Employment</th>\n",
       "      <td>1</td>\n",
       "      <td>0.001</td>\n",
       "    </tr>\n",
       "    <tr>\n",
       "      <th>Value_of_Savings_account&amp;bonds</th>\n",
       "      <td>1</td>\n",
       "      <td>0.001</td>\n",
       "    </tr>\n",
       "  </tbody>\n",
       "</table>\n",
       "</div>"
      ],
      "text/plain": [
       "                                                   Total  Percent\n",
       "Credit_Amount                                         24    0.024\n",
       "Duration_of_Credit_month                              11    0.011\n",
       "Payment_Status_of_Previous_Credit(Credit_history)     10    0.010\n",
       "Age_in_years                                           7    0.007\n",
       "Concurrent_Credits                                     6    0.006\n",
       "Sex_&_Marital_Status                                   6    0.006\n",
       "Percentage_of_disposable_income                        6    0.006\n",
       "No_of_Credits_at_this__Bank                            4    0.004\n",
       "Housing                                                4    0.004\n",
       "No_of_dependents                                       3    0.003\n",
       "Occupation                                             1    0.001\n",
       "Duration_in_Present_Residence                          1    0.001\n",
       "Guarantors/Debtors                                     1    0.001\n",
       "Years_of_Present_Employment                            1    0.001\n",
       "Value_of_Savings_account&bonds                         1    0.001"
      ]
     },
     "execution_count": 83,
     "metadata": {},
     "output_type": "execute_result"
    }
   ],
   "source": [
    "total = data_cont.isnull().sum().sort_values(ascending = False)\n",
    "percent = (data_cont.isnull().sum()/data_cont.isnull().count()).sort_values(ascending=False)\n",
    "missing_data = pd.concat([total, percent], axis=1, keys=['Total', 'Percent'])\n",
    "missing_data.head(15)"
   ]
  },
  {
   "cell_type": "code",
   "execution_count": 84,
   "metadata": {},
   "outputs": [],
   "source": [
    "for i in data_cont.columns:\n",
    "    if missing_data.loc[i][\"Percent\"] > 0.5:\n",
    "        data_cont = data_cont.drop(i, axis = 1)\n",
    "    else:\n",
    "        data_cont[i] = data_cont[i].fillna(data_cont[i].median())"
   ]
  },
  {
   "cell_type": "code",
   "execution_count": 85,
   "metadata": {
    "collapsed": true
   },
   "outputs": [],
   "source": [
    "data_cat_dummies  = pd.get_dummies(data_cat,drop_first=True)"
   ]
  },
  {
   "cell_type": "code",
   "execution_count": 86,
   "metadata": {
    "collapsed": true
   },
   "outputs": [],
   "source": [
    "finaldata = pd.concat([data_cont, data_cat_dummies], axis=1)"
   ]
  },
  {
   "cell_type": "code",
   "execution_count": 97,
   "metadata": {
    "collapsed": true
   },
   "outputs": [],
   "source": [
    "x_train1,x_test1, y_train1, y_test1 = train_test_split(finaldata, y, test_size = 0.30)"
   ]
  },
  {
   "cell_type": "code",
   "execution_count": 115,
   "metadata": {
    "collapsed": true
   },
   "outputs": [],
   "source": [
    "decision_tree = DecisionTreeClassifier(random_state=0, max_depth=50)   # try for 2, 6, 10, 50"
   ]
  },
  {
   "cell_type": "code",
   "execution_count": 116,
   "metadata": {},
   "outputs": [
    {
     "data": {
      "text/plain": [
       "DecisionTreeClassifier(class_weight=None, criterion='gini', max_depth=50,\n",
       "            max_features=None, max_leaf_nodes=None,\n",
       "            min_impurity_decrease=0.0, min_impurity_split=None,\n",
       "            min_samples_leaf=1, min_samples_split=2,\n",
       "            min_weight_fraction_leaf=0.0, presort=False, random_state=0,\n",
       "            splitter='best')"
      ]
     },
     "execution_count": 116,
     "metadata": {},
     "output_type": "execute_result"
    }
   ],
   "source": [
    "decision_tree.fit(x_train1, y_train1)"
   ]
  },
  {
   "cell_type": "code",
   "execution_count": 117,
   "metadata": {},
   "outputs": [
    {
     "data": {
      "text/plain": [
       "1.0"
      ]
     },
     "execution_count": 117,
     "metadata": {},
     "output_type": "execute_result"
    }
   ],
   "source": [
    "decision_tree.score(x_train1, y_train1)"
   ]
  },
  {
   "cell_type": "code",
   "execution_count": 118,
   "metadata": {},
   "outputs": [
    {
     "data": {
      "text/plain": [
       "0.7033333333333334"
      ]
     },
     "execution_count": 118,
     "metadata": {},
     "output_type": "execute_result"
    }
   ],
   "source": [
    "decision_tree.score(x_test1, y_test1)"
   ]
  },
  {
   "cell_type": "code",
   "execution_count": null,
   "metadata": {
    "collapsed": true
   },
   "outputs": [],
   "source": []
  },
  {
   "cell_type": "code",
   "execution_count": 145,
   "metadata": {
    "collapsed": true
   },
   "outputs": [],
   "source": [
    "decision_tree = DecisionTreeClassifier(random_state=0, min_samples_leaf = 100)   # try for 4, 10, 20, 100"
   ]
  },
  {
   "cell_type": "code",
   "execution_count": 146,
   "metadata": {},
   "outputs": [
    {
     "data": {
      "text/plain": [
       "DecisionTreeClassifier(class_weight=None, criterion='gini', max_depth=None,\n",
       "            max_features=None, max_leaf_nodes=None,\n",
       "            min_impurity_decrease=0.0, min_impurity_split=None,\n",
       "            min_samples_leaf=100, min_samples_split=2,\n",
       "            min_weight_fraction_leaf=0.0, presort=False, random_state=0,\n",
       "            splitter='best')"
      ]
     },
     "execution_count": 146,
     "metadata": {},
     "output_type": "execute_result"
    }
   ],
   "source": [
    "decision_tree.fit(x_train1, y_train1)"
   ]
  },
  {
   "cell_type": "code",
   "execution_count": 147,
   "metadata": {},
   "outputs": [
    {
     "data": {
      "text/plain": [
       "0.7171428571428572"
      ]
     },
     "execution_count": 147,
     "metadata": {},
     "output_type": "execute_result"
    }
   ],
   "source": [
    "decision_tree.score(x_train1, y_train1)"
   ]
  },
  {
   "cell_type": "code",
   "execution_count": 148,
   "metadata": {},
   "outputs": [
    {
     "data": {
      "text/plain": [
       "0.71"
      ]
     },
     "execution_count": 148,
     "metadata": {},
     "output_type": "execute_result"
    }
   ],
   "source": [
    "decision_tree.score(x_test1, y_test1)"
   ]
  },
  {
   "cell_type": "code",
   "execution_count": 155,
   "metadata": {},
   "outputs": [
    {
     "data": {
      "text/plain": [
       "array([0.1925362 , 0.        , 0.06675657, 0.        , 0.        ,\n",
       "       0.        , 0.        , 0.        , 0.        , 0.        ,\n",
       "       0.        , 0.        , 0.        , 0.        , 0.        ,\n",
       "       0.        , 0.        , 0.        , 0.        , 0.        ,\n",
       "       0.74070723, 0.        , 0.        , 0.        , 0.        ,\n",
       "       0.        , 0.        , 0.        , 0.        , 0.        ,\n",
       "       0.        , 0.        , 0.        , 0.        ])"
      ]
     },
     "execution_count": 155,
     "metadata": {},
     "output_type": "execute_result"
    }
   ],
   "source": [
    "decision_tree.feature_importances_"
   ]
  },
  {
   "cell_type": "code",
   "execution_count": 138,
   "metadata": {
    "collapsed": true
   },
   "outputs": [],
   "source": [
    "from sklearn.model_selection import GridSearchCV"
   ]
  },
  {
   "cell_type": "code",
   "execution_count": 140,
   "metadata": {
    "collapsed": true
   },
   "outputs": [],
   "source": [
    "parameters = {'min_samples_leaf':np.array([4,10,20,100]), 'max_depth':np.array([2, 5, 10, 50])}"
   ]
  },
  {
   "cell_type": "code",
   "execution_count": 141,
   "metadata": {
    "collapsed": true
   },
   "outputs": [],
   "source": [
    "decision_tree = DecisionTreeClassifier()"
   ]
  },
  {
   "cell_type": "code",
   "execution_count": 143,
   "metadata": {},
   "outputs": [
    {
     "name": "stdout",
     "output_type": "stream",
     "text": [
      "Fitting 5 folds for each of 16 candidates, totalling 80 fits\n",
      "[CV] max_depth=2, min_samples_leaf=4 .................................\n",
      "[CV] .................. max_depth=2, min_samples_leaf=4, total=   0.0s\n",
      "[CV] max_depth=2, min_samples_leaf=4 .................................\n",
      "[CV] .................. max_depth=2, min_samples_leaf=4, total=   0.0s\n",
      "[CV] max_depth=2, min_samples_leaf=4 .................................\n",
      "[CV] .................. max_depth=2, min_samples_leaf=4, total=   0.0s\n",
      "[CV] max_depth=2, min_samples_leaf=4 .................................\n",
      "[CV] .................. max_depth=2, min_samples_leaf=4, total=   0.0s\n",
      "[CV] max_depth=2, min_samples_leaf=4 .................................\n",
      "[CV] .................. max_depth=2, min_samples_leaf=4, total=   0.0s\n",
      "[CV] max_depth=2, min_samples_leaf=10 ................................\n",
      "[CV] ................. max_depth=2, min_samples_leaf=10, total=   0.0s\n",
      "[CV] max_depth=2, min_samples_leaf=10 ................................\n",
      "[CV] ................. max_depth=2, min_samples_leaf=10, total=   0.0s\n",
      "[CV] max_depth=2, min_samples_leaf=10 ................................\n",
      "[CV] ................. max_depth=2, min_samples_leaf=10, total=   0.0s\n",
      "[CV] max_depth=2, min_samples_leaf=10 ................................\n",
      "[CV] ................. max_depth=2, min_samples_leaf=10, total=   0.0s\n",
      "[CV] max_depth=2, min_samples_leaf=10 ................................\n",
      "[CV] ................. max_depth=2, min_samples_leaf=10, total=   0.0s\n",
      "[CV] max_depth=2, min_samples_leaf=20 ................................\n",
      "[CV] ................. max_depth=2, min_samples_leaf=20, total=   0.0s\n",
      "[CV] max_depth=2, min_samples_leaf=20 ................................\n",
      "[CV] ................. max_depth=2, min_samples_leaf=20, total=   0.0s\n",
      "[CV] max_depth=2, min_samples_leaf=20 ................................\n",
      "[CV] ................. max_depth=2, min_samples_leaf=20, total=   0.0s\n",
      "[CV] max_depth=2, min_samples_leaf=20 ................................\n",
      "[CV] ................. max_depth=2, min_samples_leaf=20, total=   0.0s\n",
      "[CV] max_depth=2, min_samples_leaf=20 ................................\n",
      "[CV] ................. max_depth=2, min_samples_leaf=20, total=   0.0s\n",
      "[CV] max_depth=2, min_samples_leaf=100 ...............................\n",
      "[CV] ................ max_depth=2, min_samples_leaf=100, total=   0.0s"
     ]
    },
    {
     "name": "stderr",
     "output_type": "stream",
     "text": [
      "[Parallel(n_jobs=1)]: Done   1 out of   1 | elapsed:    0.0s remaining:    0.0s\n"
     ]
    },
    {
     "name": "stdout",
     "output_type": "stream",
     "text": [
      "\n",
      "[CV] max_depth=2, min_samples_leaf=100 ...............................\n",
      "[CV] ................ max_depth=2, min_samples_leaf=100, total=   0.0s\n",
      "[CV] max_depth=2, min_samples_leaf=100 ...............................\n",
      "[CV] ................ max_depth=2, min_samples_leaf=100, total=   0.0s\n",
      "[CV] max_depth=2, min_samples_leaf=100 ...............................\n",
      "[CV] ................ max_depth=2, min_samples_leaf=100, total=   0.0s\n",
      "[CV] max_depth=2, min_samples_leaf=100 ...............................\n",
      "[CV] ................ max_depth=2, min_samples_leaf=100, total=   0.0s\n",
      "[CV] max_depth=5, min_samples_leaf=4 .................................\n",
      "[CV] .................. max_depth=5, min_samples_leaf=4, total=   0.0s\n",
      "[CV] max_depth=5, min_samples_leaf=4 .................................\n",
      "[CV] .................. max_depth=5, min_samples_leaf=4, total=   0.0s\n",
      "[CV] max_depth=5, min_samples_leaf=4 .................................\n",
      "[CV] .................. max_depth=5, min_samples_leaf=4, total=   0.0s\n",
      "[CV] max_depth=5, min_samples_leaf=4 .................................\n",
      "[CV] .................. max_depth=5, min_samples_leaf=4, total=   0.0s\n",
      "[CV] max_depth=5, min_samples_leaf=4 .................................\n",
      "[CV] .................. max_depth=5, min_samples_leaf=4, total=   0.0s\n",
      "[CV] max_depth=5, min_samples_leaf=10 ................................\n",
      "[CV] ................. max_depth=5, min_samples_leaf=10, total=   0.0s\n",
      "[CV] max_depth=5, min_samples_leaf=10 ................................\n",
      "[CV] ................. max_depth=5, min_samples_leaf=10, total=   0.0s\n",
      "[CV] max_depth=5, min_samples_leaf=10 ................................\n",
      "[CV] ................. max_depth=5, min_samples_leaf=10, total=   0.0s\n",
      "[CV] max_depth=5, min_samples_leaf=10 ................................\n",
      "[CV] ................. max_depth=5, min_samples_leaf=10, total=   0.0s\n",
      "[CV] max_depth=5, min_samples_leaf=10 ................................\n",
      "[CV] ................. max_depth=5, min_samples_leaf=10, total=   0.0s\n",
      "[CV] max_depth=5, min_samples_leaf=20 ................................\n",
      "[CV] ................. max_depth=5, min_samples_leaf=20, total=   0.0s\n",
      "[CV] max_depth=5, min_samples_leaf=20 ................................\n",
      "[CV] ................. max_depth=5, min_samples_leaf=20, total=   0.0s\n",
      "[CV] max_depth=5, min_samples_leaf=20 ................................\n",
      "[CV] ................. max_depth=5, min_samples_leaf=20, total=   0.0s\n",
      "[CV] max_depth=5, min_samples_leaf=20 ................................\n",
      "[CV] ................. max_depth=5, min_samples_leaf=20, total=   0.0s\n",
      "[CV] max_depth=5, min_samples_leaf=20 ................................\n",
      "[CV] ................. max_depth=5, min_samples_leaf=20, total=   0.0s\n",
      "[CV] max_depth=5, min_samples_leaf=100 ...............................\n",
      "[CV] ................ max_depth=5, min_samples_leaf=100, total=   0.0s\n",
      "[CV] max_depth=5, min_samples_leaf=100 ...............................\n",
      "[CV] ................ max_depth=5, min_samples_leaf=100, total=   0.0s\n",
      "[CV] max_depth=5, min_samples_leaf=100 ...............................\n",
      "[CV] ................ max_depth=5, min_samples_leaf=100, total=   0.0s\n",
      "[CV] max_depth=5, min_samples_leaf=100 ...............................\n",
      "[CV] ................ max_depth=5, min_samples_leaf=100, total=   0.0s\n",
      "[CV] max_depth=5, min_samples_leaf=100 ...............................\n",
      "[CV] ................ max_depth=5, min_samples_leaf=100, total=   0.0s\n",
      "[CV] max_depth=10, min_samples_leaf=4 ................................\n",
      "[CV] ................. max_depth=10, min_samples_leaf=4, total=   0.0s\n",
      "[CV] max_depth=10, min_samples_leaf=4 ................................\n",
      "[CV] ................. max_depth=10, min_samples_leaf=4, total=   0.0s\n",
      "[CV] max_depth=10, min_samples_leaf=4 ................................\n",
      "[CV] ................. max_depth=10, min_samples_leaf=4, total=   0.0s\n",
      "[CV] max_depth=10, min_samples_leaf=4 ................................\n",
      "[CV] ................. max_depth=10, min_samples_leaf=4, total=   0.0s\n",
      "[CV] max_depth=10, min_samples_leaf=4 ................................\n",
      "[CV] ................. max_depth=10, min_samples_leaf=4, total=   0.0s\n",
      "[CV] max_depth=10, min_samples_leaf=10 ...............................\n",
      "[CV] ................ max_depth=10, min_samples_leaf=10, total=   0.0s\n",
      "[CV] max_depth=10, min_samples_leaf=10 ...............................\n",
      "[CV] ................ max_depth=10, min_samples_leaf=10, total=   0.0s\n",
      "[CV] max_depth=10, min_samples_leaf=10 ...............................\n",
      "[CV] ................ max_depth=10, min_samples_leaf=10, total=   0.0s\n",
      "[CV] max_depth=10, min_samples_leaf=10 ...............................\n",
      "[CV] ................ max_depth=10, min_samples_leaf=10, total=   0.0s\n",
      "[CV] max_depth=10, min_samples_leaf=10 ...............................\n",
      "[CV] ................ max_depth=10, min_samples_leaf=10, total=   0.0s\n",
      "[CV] max_depth=10, min_samples_leaf=20 ...............................\n",
      "[CV] ................ max_depth=10, min_samples_leaf=20, total=   0.0s\n",
      "[CV] max_depth=10, min_samples_leaf=20 ...............................\n",
      "[CV] ................ max_depth=10, min_samples_leaf=20, total=   0.0s\n",
      "[CV] max_depth=10, min_samples_leaf=20 ...............................\n",
      "[CV] ................ max_depth=10, min_samples_leaf=20, total=   0.0s\n",
      "[CV] max_depth=10, min_samples_leaf=20 ...............................\n",
      "[CV] ................ max_depth=10, min_samples_leaf=20, total=   0.0s\n",
      "[CV] max_depth=10, min_samples_leaf=20 ...............................\n",
      "[CV] ................ max_depth=10, min_samples_leaf=20, total=   0.0s\n",
      "[CV] max_depth=10, min_samples_leaf=100 ..............................\n",
      "[CV] ............... max_depth=10, min_samples_leaf=100, total=   0.0s\n",
      "[CV] max_depth=10, min_samples_leaf=100 ..............................\n",
      "[CV] ............... max_depth=10, min_samples_leaf=100, total=   0.0s\n",
      "[CV] max_depth=10, min_samples_leaf=100 ..............................\n",
      "[CV] ............... max_depth=10, min_samples_leaf=100, total=   0.0s\n",
      "[CV] max_depth=10, min_samples_leaf=100 ..............................\n",
      "[CV] ............... max_depth=10, min_samples_leaf=100, total=   0.0s\n",
      "[CV] max_depth=10, min_samples_leaf=100 ..............................\n",
      "[CV] ............... max_depth=10, min_samples_leaf=100, total=   0.0s\n",
      "[CV] max_depth=50, min_samples_leaf=4 ................................\n",
      "[CV] ................. max_depth=50, min_samples_leaf=4, total=   0.0s\n",
      "[CV] max_depth=50, min_samples_leaf=4 ................................\n",
      "[CV] ................. max_depth=50, min_samples_leaf=4, total=   0.0s\n",
      "[CV] max_depth=50, min_samples_leaf=4 ................................\n",
      "[CV] ................. max_depth=50, min_samples_leaf=4, total=   0.0s\n",
      "[CV] max_depth=50, min_samples_leaf=4 ................................\n",
      "[CV] ................. max_depth=50, min_samples_leaf=4, total=   0.0s\n",
      "[CV] max_depth=50, min_samples_leaf=4 ................................\n",
      "[CV] ................. max_depth=50, min_samples_leaf=4, total=   0.0s\n",
      "[CV] max_depth=50, min_samples_leaf=10 ...............................\n",
      "[CV] ................ max_depth=50, min_samples_leaf=10, total=   0.0s\n",
      "[CV] max_depth=50, min_samples_leaf=10 ...............................\n",
      "[CV] ................ max_depth=50, min_samples_leaf=10, total=   0.0s\n",
      "[CV] max_depth=50, min_samples_leaf=10 ...............................\n",
      "[CV] ................ max_depth=50, min_samples_leaf=10, total=   0.0s\n",
      "[CV] max_depth=50, min_samples_leaf=10 ...............................\n",
      "[CV] ................ max_depth=50, min_samples_leaf=10, total=   0.0s\n",
      "[CV] max_depth=50, min_samples_leaf=10 ...............................\n",
      "[CV] ................ max_depth=50, min_samples_leaf=10, total=   0.0s\n",
      "[CV] max_depth=50, min_samples_leaf=20 ...............................\n",
      "[CV] ................ max_depth=50, min_samples_leaf=20, total=   0.0s\n",
      "[CV] max_depth=50, min_samples_leaf=20 ...............................\n",
      "[CV] ................ max_depth=50, min_samples_leaf=20, total=   0.0s\n",
      "[CV] max_depth=50, min_samples_leaf=20 ...............................\n",
      "[CV] ................ max_depth=50, min_samples_leaf=20, total=   0.0s\n",
      "[CV] max_depth=50, min_samples_leaf=20 ...............................\n",
      "[CV] ................ max_depth=50, min_samples_leaf=20, total=   0.0s\n",
      "[CV] max_depth=50, min_samples_leaf=20 ...............................\n",
      "[CV] ................ max_depth=50, min_samples_leaf=20, total=   0.0s\n",
      "[CV] max_depth=50, min_samples_leaf=100 ..............................\n",
      "[CV] ............... max_depth=50, min_samples_leaf=100, total=   0.0s\n",
      "[CV] max_depth=50, min_samples_leaf=100 ..............................\n",
      "[CV] ............... max_depth=50, min_samples_leaf=100, total=   0.0s\n",
      "[CV] max_depth=50, min_samples_leaf=100 ..............................\n",
      "[CV] ............... max_depth=50, min_samples_leaf=100, total=   0.0s\n",
      "[CV] max_depth=50, min_samples_leaf=100 ..............................\n",
      "[CV] ............... max_depth=50, min_samples_leaf=100, total=   0.0s\n",
      "[CV] max_depth=50, min_samples_leaf=100 ..............................\n",
      "[CV] ............... max_depth=50, min_samples_leaf=100, total=   0.0s\n"
     ]
    },
    {
     "name": "stderr",
     "output_type": "stream",
     "text": [
      "[Parallel(n_jobs=1)]: Done  80 out of  80 | elapsed:    0.8s finished\n"
     ]
    },
    {
     "data": {
      "text/plain": [
       "GridSearchCV(cv=5, error_score='raise',\n",
       "       estimator=DecisionTreeClassifier(class_weight=None, criterion='gini', max_depth=None,\n",
       "            max_features=None, max_leaf_nodes=None,\n",
       "            min_impurity_decrease=0.0, min_impurity_split=None,\n",
       "            min_samples_leaf=1, min_samples_split=2,\n",
       "            min_weight_fraction_leaf=0.0, presort=False, random_state=None,\n",
       "            splitter='best'),\n",
       "       fit_params=None, iid=True, n_jobs=1,\n",
       "       param_grid={'min_samples_leaf': array([  4,  10,  20, 100]), 'max_depth': array([ 2,  5, 10, 50])},\n",
       "       pre_dispatch='2*n_jobs', refit=True, return_train_score='warn',\n",
       "       scoring=None, verbose=2)"
      ]
     },
     "execution_count": 143,
     "metadata": {},
     "output_type": "execute_result"
    }
   ],
   "source": [
    "clf = GridSearchCV(decision_tree, parameters, cv=5, verbose=2)\n",
    "clf.fit(x_test1, y_test1)"
   ]
  },
  {
   "cell_type": "code",
   "execution_count": 156,
   "metadata": {},
   "outputs": [
    {
     "data": {
      "text/plain": [
       "0.6866666666666666"
      ]
     },
     "execution_count": 156,
     "metadata": {},
     "output_type": "execute_result"
    }
   ],
   "source": [
    "clf.score(x_test1, y_test1)"
   ]
  },
  {
   "cell_type": "code",
   "execution_count": 157,
   "metadata": {},
   "outputs": [
    {
     "data": {
      "text/plain": [
       "{'max_depth': 2, 'min_samples_leaf': 100}"
      ]
     },
     "execution_count": 157,
     "metadata": {},
     "output_type": "execute_result"
    }
   ],
   "source": [
    "clf.best_params_"
   ]
  },
  {
   "cell_type": "code",
   "execution_count": 158,
   "metadata": {},
   "outputs": [
    {
     "data": {
      "text/plain": [
       "0.6866666666666666"
      ]
     },
     "execution_count": 158,
     "metadata": {},
     "output_type": "execute_result"
    }
   ],
   "source": [
    "clf.best_score_"
   ]
  },
  {
   "cell_type": "code",
   "execution_count": null,
   "metadata": {
    "collapsed": true
   },
   "outputs": [],
   "source": []
  }
 ],
 "metadata": {
  "kernelspec": {
   "display_name": "Python 3",
   "language": "python",
   "name": "python3"
  },
  "language_info": {
   "codemirror_mode": {
    "name": "ipython",
    "version": 3
   },
   "file_extension": ".py",
   "mimetype": "text/x-python",
   "name": "python",
   "nbconvert_exporter": "python",
   "pygments_lexer": "ipython3",
   "version": "3.6.7"
  }
 },
 "nbformat": 4,
 "nbformat_minor": 2
}
