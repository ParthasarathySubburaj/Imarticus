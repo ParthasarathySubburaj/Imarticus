{
 "cells": [
  {
   "cell_type": "markdown",
   "metadata": {},
   "source": [
    "# If - Else if - Else"
   ]
  },
  {
   "cell_type": "code",
   "execution_count": 3,
   "metadata": {},
   "outputs": [
    {
     "name": "stdout",
     "output_type": "stream",
     "text": [
      "Second class\n"
     ]
    }
   ],
   "source": [
    "Mark = 80\n",
    "if (Mark >= 90): \n",
    "    print (\"First class\") \n",
    "else:\n",
    "    print (\"Second class\") "
   ]
  },
  {
   "cell_type": "code",
   "execution_count": 48,
   "metadata": {},
   "outputs": [
    {
     "name": "stdout",
     "output_type": "stream",
     "text": [
      "Enter marks98\n",
      "First class\n"
     ]
    }
   ],
   "source": [
    "Mark = int(input(\"Enter marks\"))\n",
    "if (Mark == 100): \n",
    "    print (\"First class with distinction \") \n",
    "elif (Mark >90):\n",
    "    print (\"First class\") \n",
    "else:\n",
    "    print(\"Second class\")"
   ]
  },
  {
   "cell_type": "code",
   "execution_count": 14,
   "metadata": {},
   "outputs": [
    {
     "name": "stdout",
     "output_type": "stream",
     "text": [
      "Enter marks98\n",
      "First class with distinction\n",
      "First class\n"
     ]
    }
   ],
   "source": [
    "Mark =  int(input(\"Enter marks\"))\n",
    "if (Mark > 95): \n",
    "    print (\"First class with distinction\") \n",
    "if (Mark > 90):\n",
    "    print (\"First class\") \n",
    "else:\n",
    "    print(\"Second class\")"
   ]
  },
  {
   "cell_type": "code",
   "execution_count": 27,
   "metadata": {},
   "outputs": [
    {
     "name": "stdout",
     "output_type": "stream",
     "text": [
      "Improve Maths\n"
     ]
    }
   ],
   "source": [
    "Maths = 89\n",
    "Science = 91\n",
    "\n",
    "if (Maths > 90):\n",
    "    if (Science > 90):\n",
    "        print(\"Well done\")\n",
    "        \n",
    "elif (Maths > 90):\n",
    "    if (Science < 90):\n",
    "        print(\"Improve Science\")\n",
    "        \n",
    "elif (Maths < 90):\n",
    "    if (Science > 90):\n",
    "        print(\"Improve Maths\")\n",
    "        \n",
    "else:\n",
    "    print(\"Improve both\")"
   ]
  },
  {
   "cell_type": "code",
   "execution_count": 45,
   "metadata": {},
   "outputs": [
    {
     "name": "stdout",
     "output_type": "stream",
     "text": [
      "Improve Science\n"
     ]
    }
   ],
   "source": [
    "Maths = 91\n",
    "Science = 80\n",
    "\n",
    "if (Maths > 90 and Science >90):\n",
    "    print(\"Well done\")\n",
    "        \n",
    "elif (Maths > 90 and Science < 90 ):\n",
    "    print(\"Improve Science\")\n",
    "        \n",
    "elif (Maths < 90 and Science > 90):\n",
    "    print(\"Improve Maths\")\n",
    "        \n",
    "else:\n",
    "    print(\"Improve both\")"
   ]
  },
  {
   "cell_type": "code",
   "execution_count": null,
   "metadata": {
    "collapsed": true
   },
   "outputs": [],
   "source": [
    "#Make sure you have covered all the possibilities\n",
    "# pass statement"
   ]
  },
  {
   "cell_type": "markdown",
   "metadata": {},
   "source": [
    "## Exercise"
   ]
  },
  {
   "cell_type": "code",
   "execution_count": 55,
   "metadata": {},
   "outputs": [],
   "source": [
    "#Given two numbers A and B find their reminder and if the reminder is even print all even numbers < the reminder, else \n",
    "# print all odd numbers < the reminder"
   ]
  },
  {
   "cell_type": "code",
   "execution_count": null,
   "metadata": {
    "collapsed": true
   },
   "outputs": [],
   "source": [
    "A = int(input())\n",
    "B = int(input())\n",
    "R = A%B\n",
    "numbers = []\n",
    "if (R%2 == 0):\n",
    "    for i in range(R):\n",
    "        if(i%2 == 0):\n",
    "            numbers.append(i)\n",
    "        else:\n",
    "            pass\n",
    "else:\n",
    "    for i in range(R):\n",
    "        if (i%2 != 0):\n",
    "            numbers.append(i)\n",
    "\n",
    "print(numbers)"
   ]
  },
  {
   "cell_type": "markdown",
   "metadata": {},
   "source": [
    "## While loop"
   ]
  },
  {
   "cell_type": "code",
   "execution_count": null,
   "metadata": {},
   "outputs": [],
   "source": [
    "print(\"Please enter the number of subjects\")\n",
    "subjects = int(input())\n",
    "i = 1\n",
    "total = 0\n",
    "while i<=subjects:\n",
    "    print(\"Enter your score in subject {}\".format(i))\n",
    "    mark = int(input())\n",
    "    total = total + mark\n",
    "    i = i+1\n",
    "average = total/subjects\n",
    "\n",
    "print (\"your average score for {} subjects is {}\".format(subjects, average))"
   ]
  },
  {
   "cell_type": "code",
   "execution_count": null,
   "metadata": {
    "collapsed": true
   },
   "outputs": [],
   "source": [
    "# effect of removing i = i+1 \n",
    "# convert to for loop"
   ]
  }
 ],
 "metadata": {
  "kernelspec": {
   "display_name": "Python 3",
   "language": "python",
   "name": "python3"
  },
  "language_info": {
   "codemirror_mode": {
    "name": "ipython",
    "version": 3
   },
   "file_extension": ".py",
   "mimetype": "text/x-python",
   "name": "python",
   "nbconvert_exporter": "python",
   "pygments_lexer": "ipython3",
   "version": "3.6.7"
  }
 },
 "nbformat": 4,
 "nbformat_minor": 2
}
