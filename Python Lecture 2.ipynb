{
 "cells": [
  {
   "cell_type": "markdown",
   "metadata": {},
   "source": [
    "## If - Else if - Else"
   ]
  },
  {
   "cell_type": "code",
   "execution_count": 5,
   "metadata": {},
   "outputs": [
    {
     "name": "stdout",
     "output_type": "stream",
     "text": [
      "Enter marks 98.6\n",
      "First class\n"
     ]
    }
   ],
   "source": [
    "#Mark = 82\n",
    "Mark = float(input(\"Enter marks \"))   ##commenting this line\n",
    "if (Mark >= 90): \n",
    "    print (\"First class\") \n",
    "else:\n",
    "    print (\"Second class\") "
   ]
  },
  {
   "cell_type": "code",
   "execution_count": 10,
   "metadata": {},
   "outputs": [
    {
     "name": "stdout",
     "output_type": "stream",
     "text": [
      "Enter marks 98\n",
      "First class\n"
     ]
    }
   ],
   "source": [
    "Mark = int(input(\"Enter marks \"))\n",
    "if (Mark == 100): \n",
    "    print (\"First class with distinction \")\n",
    "    print(\"well done\")\n",
    "elif (Mark >90):\n",
    "    print (\"First class\") \n",
    "elif (Marks > 80):\n",
    "    print (\"Second class with distinction\")\n",
    "else:\n",
    "    print(\"Second class\")"
   ]
  },
  {
   "cell_type": "code",
   "execution_count": 9,
   "metadata": {},
   "outputs": [
    {
     "name": "stdout",
     "output_type": "stream",
     "text": [
      "Enter marks 98\n",
      "First class with distinction\n",
      "well done\n",
      "First class\n"
     ]
    }
   ],
   "source": [
    "Mark =  int(input(\"Enter marks \"))\n",
    "if (Mark > 95): \n",
    "    print (\"First class with distinction\")\n",
    "    print(\"well done\")\n",
    "if (Mark > 90):\n",
    "    print (\"First class\") \n",
    "else:\n",
    "    print(\"Second class\")"
   ]
  },
  {
   "cell_type": "code",
   "execution_count": 12,
   "metadata": {},
   "outputs": [
    {
     "name": "stdout",
     "output_type": "stream",
     "text": [
      "Well done\n"
     ]
    }
   ],
   "source": [
    "Maths = 91\n",
    "Science = 85\n",
    "\n",
    "if (Maths > 90):\n",
    "    if (Science > 90):\n",
    "        print(\"Well done\")\n",
    "    else:\n",
    "        print(\"improve science\")\n",
    "        \n",
    "elif (Maths > 90):             # effect of change to if from elif\n",
    "    if (Science < 90):\n",
    "        print(\"Improve Science\")\n",
    "        \n",
    "elif (Maths < 90):\n",
    "    if (Science > 90):\n",
    "        print(\"Improve Maths\")\n",
    "        \n",
    "else:\n",
    "    print(\"Improve both\")"
   ]
  },
  {
   "cell_type": "code",
   "execution_count": 14,
   "metadata": {},
   "outputs": [],
   "source": [
    "Maths = 85\n",
    "Science = 92\n",
    "\n",
    "if (Maths > 90 and Science >90):\n",
    "    print(\"Well done\")\n",
    "        \n",
    "elif (Maths > 90 and Science < 90 ):\n",
    "    print(\"Improve Science\")\n",
    "        \n",
    "elif (Maths < 90 and Science > 90):\n",
    "    pass\n",
    "        \n",
    "else:\n",
    "    print(\"Improve both\")"
   ]
  },
  {
   "cell_type": "code",
   "execution_count": null,
   "metadata": {
    "collapsed": true
   },
   "outputs": [],
   "source": [
    "#Make sure you have covered all the possibilities\n",
    "# pass statement"
   ]
  },
  {
   "cell_type": "markdown",
   "metadata": {},
   "source": [
    "## Exercise"
   ]
  },
  {
   "cell_type": "code",
   "execution_count": null,
   "metadata": {
    "collapsed": true
   },
   "outputs": [],
   "source": [
    "#Given two numbers A and B find their reminder and if the reminder is even print all even numbers < the reminder, else \n",
    "# print all odd numbers < the reminder"
   ]
  },
  {
   "cell_type": "code",
   "execution_count": 15,
   "metadata": {},
   "outputs": [
    {
     "name": "stdout",
     "output_type": "stream",
     "text": [
      "Enter first number : \n",
      "49\n",
      "Enter second number : \n",
      "30\n",
      "Reminder is 19\n",
      "Printing all odd numbers till 19\n",
      "[1, 3, 5, 7, 9, 11, 13, 15, 17]\n"
     ]
    }
   ],
   "source": [
    "print (\"Enter first number : \")\n",
    "A = int(input())\n",
    "print (\"Enter second number : \")\n",
    "B = int(input())\n",
    "R = A%B\n",
    "print (\"Reminder is {}\".format(R))\n",
    "numbers = []\n",
    "if (R%2 == 0):\n",
    "    print (\"Printing all even numbers till {}\".format(R))\n",
    "    for i in range(R):\n",
    "        if(i%2 == 0):\n",
    "            numbers.append(i)\n",
    "        else:\n",
    "            pass\n",
    "else:\n",
    "    print (\"Printing all odd numbers till {}\".format(R))\n",
    "    for i in range(R):\n",
    "        if (i%2 != 0):\n",
    "            numbers.append(i)\n",
    "        else:\n",
    "            pass\n",
    "\n",
    "print(numbers)"
   ]
  },
  {
   "cell_type": "markdown",
   "metadata": {},
   "source": [
    "## While loop"
   ]
  },
  {
   "cell_type": "code",
   "execution_count": 22,
   "metadata": {},
   "outputs": [
    {
     "name": "stdout",
     "output_type": "stream",
     "text": [
      "Please enter the number: \n",
      "85\n",
      "Please enter the number: \n",
      "80\n",
      "Please enter the number: \n",
      "-1\n",
      "your average is 54.666666666666664\n"
     ]
    }
   ],
   "source": [
    "Number = 0\n",
    "count = 0\n",
    "total = 0\n",
    "while Number>=0:\n",
    "    print(\"Please enter the number: \")\n",
    "    Number = int(input())\n",
    "    total = total + Number\n",
    "    count = count+1\n",
    "average = total/count\n",
    "\n",
    "print (\"your average is {}\".format(average))"
   ]
  },
  {
   "cell_type": "code",
   "execution_count": null,
   "metadata": {},
   "outputs": [],
   "source": [
    "count = 0\n",
    "total = 0\n",
    "while True:\n",
    "    print(\"Please enter the number: \")\n",
    "    Number = int(input())\n",
    "    if (Number <0):\n",
    "        print (\"your average is {}\".format(average))\n",
    "        break\n",
    "    total = total + Number\n",
    "    count = count+1\n",
    "    average = total/count"
   ]
  },
  {
   "cell_type": "code",
   "execution_count": null,
   "metadata": {},
   "outputs": [],
   "source": [
    "print(\"Please enter the number of subjects\")\n",
    "subjects = int(input())\n",
    "i = 1\n",
    "total = 0\n",
    "while i<=subjects:\n",
    "    print(\"Enter your score in subject {}\".format(i))\n",
    "    mark = int(input())\n",
    "    total = total + mark\n",
    "    #i = i+1\n",
    "average = total/subjects\n",
    "\n",
    "print (\"your average score for {} subjects is {}\".format(subjects, average))"
   ]
  },
  {
   "cell_type": "code",
   "execution_count": null,
   "metadata": {
    "collapsed": true
   },
   "outputs": [],
   "source": [
    "# effect of removing i = i+1 \n",
    "# convert to for loop"
   ]
  },
  {
   "cell_type": "code",
   "execution_count": null,
   "metadata": {
    "collapsed": true
   },
   "outputs": [],
   "source": [
    "print(\"Please enter the number of subjects\")\n",
    "subjects = int(input())\n",
    "i = 1\n",
    "total = 0\n",
    "for i in range(subjects):\n",
    "    print(\"Enter your score in subject {}\".format(i))\n",
    "    mark = int(input())\n",
    "    total = total + mark\n",
    "average = total/subjects\n",
    "\n",
    "print (\"your average score for {} subjects is {}\".format(subjects, average))"
   ]
  },
  {
   "cell_type": "markdown",
   "metadata": {},
   "source": [
    "## Functions"
   ]
  },
  {
   "cell_type": "code",
   "execution_count": 41,
   "metadata": {
    "collapsed": true
   },
   "outputs": [],
   "source": [
    "def addition (a = 1,b = 2):\n",
    "    result = a+b\n",
    "    return result"
   ]
  },
  {
   "cell_type": "code",
   "execution_count": 29,
   "metadata": {
    "collapsed": true
   },
   "outputs": [],
   "source": [
    "A = addition(2,3)\n",
    "addition(2,3)"
   ]
  },
  {
   "cell_type": "code",
   "execution_count": 42,
   "metadata": {},
   "outputs": [
    {
     "data": {
      "text/plain": [
       "15"
      ]
     },
     "execution_count": 42,
     "metadata": {},
     "output_type": "execute_result"
    }
   ],
   "source": [
    "addition(10,5)"
   ]
  },
  {
   "cell_type": "code",
   "execution_count": null,
   "metadata": {
    "collapsed": true
   },
   "outputs": [],
   "source": [
    "#Explain syntax arguments return statement, default values to argument, what happens when no return"
   ]
  },
  {
   "cell_type": "code",
   "execution_count": null,
   "metadata": {
    "collapsed": true
   },
   "outputs": [],
   "source": [
    "def addandsub (a,b):\n",
    "    addition = a+b\n",
    "    subtraction = a-b\n",
    "    return addition, subtraction"
   ]
  },
  {
   "cell_type": "code",
   "execution_count": null,
   "metadata": {
    "collapsed": true
   },
   "outputs": [],
   "source": [
    "A, B = addandsub(2,3)"
   ]
  },
  {
   "cell_type": "code",
   "execution_count": null,
   "metadata": {
    "collapsed": true
   },
   "outputs": [],
   "source": [
    "# Write a function to divide two numbers"
   ]
  },
  {
   "cell_type": "code",
   "execution_count": null,
   "metadata": {
    "collapsed": true
   },
   "outputs": [],
   "source": [
    "#Function to find the factorial of a number\n",
    "def fact (n):\n",
    "    result = 1\n",
    "    for i in range(1, n+1):\n",
    "        result = result * i\n",
    "    return result"
   ]
  },
  {
   "cell_type": "code",
   "execution_count": null,
   "metadata": {
    "collapsed": true
   },
   "outputs": [],
   "source": [
    "fact(5)"
   ]
  },
  {
   "cell_type": "code",
   "execution_count": 47,
   "metadata": {
    "collapsed": true
   },
   "outputs": [],
   "source": [
    "# Function to find the fibonacci series\n",
    "def fibo (n):\n",
    "    a = 1\n",
    "    b = 1\n",
    "    i = 3\n",
    "    series = [1,1]\n",
    "    while i <= n:\n",
    "        c = a+b\n",
    "        a = b\n",
    "        b = c\n",
    "        i = i+1\n",
    "        series.append(c)\n",
    "    return series"
   ]
  },
  {
   "cell_type": "code",
   "execution_count": 48,
   "metadata": {},
   "outputs": [
    {
     "data": {
      "text/plain": [
       "[1, 1, 2, 3, 5]"
      ]
     },
     "execution_count": 48,
     "metadata": {},
     "output_type": "execute_result"
    }
   ],
   "source": [
    "fibo(5)"
   ]
  },
  {
   "cell_type": "code",
   "execution_count": 49,
   "metadata": {
    "collapsed": true
   },
   "outputs": [],
   "source": [
    "def word_counter(sent):\n",
    "    words = sent.split()\n",
    "    set_of_words =set(words)\n",
    "    count = dict.fromkeys(set_of_words,0)\n",
    "    for i in words:\n",
    "         count[i] = count[i] + 1\n",
    "    return count"
   ]
  },
  {
   "cell_type": "code",
   "execution_count": 50,
   "metadata": {},
   "outputs": [
    {
     "data": {
      "text/plain": [
       "{'I': 2,\n",
       " 'am': 2,\n",
       " 'from': 1,\n",
       " 'in': 1,\n",
       " 'Taramani': 1,\n",
       " 'and': 1,\n",
       " 'working': 1,\n",
       " 'chennai': 1}"
      ]
     },
     "execution_count": 50,
     "metadata": {},
     "output_type": "execute_result"
    }
   ],
   "source": [
    "word_counter (\"I am from chennai and I am working in Taramani\")"
   ]
  },
  {
   "cell_type": "markdown",
   "metadata": {},
   "source": [
    "## call by value and call by reference"
   ]
  },
  {
   "cell_type": "code",
   "execution_count": 51,
   "metadata": {
    "collapsed": true
   },
   "outputs": [],
   "source": [
    "def inc (A,B):\n",
    "    A = A+1\n",
    "    B = B+1\n",
    "    return A,B"
   ]
  },
  {
   "cell_type": "code",
   "execution_count": 52,
   "metadata": {},
   "outputs": [
    {
     "data": {
      "text/plain": [
       "(6, 7)"
      ]
     },
     "execution_count": 52,
     "metadata": {},
     "output_type": "execute_result"
    }
   ],
   "source": [
    "inc(5,6)"
   ]
  },
  {
   "cell_type": "code",
   "execution_count": 53,
   "metadata": {},
   "outputs": [
    {
     "data": {
      "text/plain": [
       "(11, 21)"
      ]
     },
     "execution_count": 53,
     "metadata": {},
     "output_type": "execute_result"
    }
   ],
   "source": [
    "X = 10\n",
    "Y = 20\n",
    "inc(X, Y)"
   ]
  },
  {
   "cell_type": "code",
   "execution_count": 54,
   "metadata": {},
   "outputs": [
    {
     "data": {
      "text/plain": [
       "(10, 20)"
      ]
     },
     "execution_count": 54,
     "metadata": {},
     "output_type": "execute_result"
    }
   ],
   "source": [
    "X,Y"
   ]
  },
  {
   "cell_type": "code",
   "execution_count": 55,
   "metadata": {
    "collapsed": true
   },
   "outputs": [],
   "source": [
    "def adding_element(l):\n",
    "    l.append(5)\n",
    "    return l"
   ]
  },
  {
   "cell_type": "code",
   "execution_count": 56,
   "metadata": {},
   "outputs": [
    {
     "data": {
      "text/plain": [
       "[2, 1, 9, 5]"
      ]
     },
     "execution_count": 56,
     "metadata": {},
     "output_type": "execute_result"
    }
   ],
   "source": [
    "adding_element([2,1,9])"
   ]
  },
  {
   "cell_type": "code",
   "execution_count": 57,
   "metadata": {},
   "outputs": [
    {
     "data": {
      "text/plain": [
       "[1, 2, 3, 5]"
      ]
     },
     "execution_count": 57,
     "metadata": {},
     "output_type": "execute_result"
    }
   ],
   "source": [
    "mylist = [1,2,3]\n",
    "adding_element(mylist)"
   ]
  },
  {
   "cell_type": "code",
   "execution_count": 58,
   "metadata": {},
   "outputs": [
    {
     "data": {
      "text/plain": [
       "[1, 2, 3, 5]"
      ]
     },
     "execution_count": 58,
     "metadata": {},
     "output_type": "execute_result"
    }
   ],
   "source": [
    "mylist"
   ]
  },
  {
   "cell_type": "code",
   "execution_count": 61,
   "metadata": {
    "collapsed": true
   },
   "outputs": [],
   "source": [
    "def inc (A,B):\n",
    "    print(\"Memory location of A before change is: {}\".format(id(A)))\n",
    "    print(\"Memory location of B before change is: {}\".format(id(B)))\n",
    "    A = A+1   ##creates a new object\n",
    "    B = B+1   ## creates a new object\n",
    "    print(\"Memory location of A after change is: {}\".format(id(A)))\n",
    "    print(\"Memory location of B after change is: {}\".format(id(B)))\n",
    "    return A,B"
   ]
  },
  {
   "cell_type": "code",
   "execution_count": 62,
   "metadata": {},
   "outputs": [
    {
     "name": "stdout",
     "output_type": "stream",
     "text": [
      "1921220976\n",
      "1921221296\n"
     ]
    }
   ],
   "source": [
    "X = 10\n",
    "Y = 20\n",
    "print(id(X))\n",
    "print(id(Y))"
   ]
  },
  {
   "cell_type": "code",
   "execution_count": 63,
   "metadata": {},
   "outputs": [
    {
     "name": "stdout",
     "output_type": "stream",
     "text": [
      "Memory location of A before change is: 1921220976\n",
      "Memory location of B before change is: 1921221296\n",
      "Memory location of A after change is: 1921221008\n",
      "Memory location of B after change is: 1921221328\n"
     ]
    },
    {
     "data": {
      "text/plain": [
       "(11, 21)"
      ]
     },
     "execution_count": 63,
     "metadata": {},
     "output_type": "execute_result"
    }
   ],
   "source": [
    "inc(X,Y)"
   ]
  },
  {
   "cell_type": "code",
   "execution_count": null,
   "metadata": {
    "collapsed": true
   },
   "outputs": [],
   "source": []
  },
  {
   "cell_type": "code",
   "execution_count": 64,
   "metadata": {
    "collapsed": true
   },
   "outputs": [],
   "source": [
    "def adding_element(l):\n",
    "    print (\"Memory location of l before change is {}\".format(id(l)))\n",
    "    l.append(5)  #Not creating new object\n",
    "    print (\"Memory location of l after change is {}\".format(id(l)))\n",
    "    return l"
   ]
  },
  {
   "cell_type": "code",
   "execution_count": 65,
   "metadata": {},
   "outputs": [
    {
     "data": {
      "text/plain": [
       "82570952"
      ]
     },
     "execution_count": 65,
     "metadata": {},
     "output_type": "execute_result"
    }
   ],
   "source": [
    "mylist = [2,3]\n",
    "id(mylist)"
   ]
  },
  {
   "cell_type": "code",
   "execution_count": 66,
   "metadata": {},
   "outputs": [
    {
     "name": "stdout",
     "output_type": "stream",
     "text": [
      "Memory location of l before change is 82570952\n",
      "Memory location of l after change is 82570952\n"
     ]
    },
    {
     "data": {
      "text/plain": [
       "[2, 3, 5]"
      ]
     },
     "execution_count": 66,
     "metadata": {},
     "output_type": "execute_result"
    }
   ],
   "source": [
    "adding_element(mylist)"
   ]
  },
  {
   "cell_type": "code",
   "execution_count": 67,
   "metadata": {},
   "outputs": [
    {
     "data": {
      "text/plain": [
       "[2, 3, 5]"
      ]
     },
     "execution_count": 67,
     "metadata": {},
     "output_type": "execute_result"
    }
   ],
   "source": [
    "mylist"
   ]
  },
  {
   "cell_type": "code",
   "execution_count": 68,
   "metadata": {
    "collapsed": true
   },
   "outputs": [],
   "source": [
    "def adding_element(l):\n",
    "    A = l.copy()  ##creating a new object\n",
    "    A.append(5)\n",
    "    return A"
   ]
  },
  {
   "cell_type": "code",
   "execution_count": 69,
   "metadata": {},
   "outputs": [
    {
     "data": {
      "text/plain": [
       "[2, 3, 5]"
      ]
     },
     "execution_count": 69,
     "metadata": {},
     "output_type": "execute_result"
    }
   ],
   "source": [
    "mylist = [2,3]\n",
    "id(mylist)\n",
    "adding_element(mylist)"
   ]
  },
  {
   "cell_type": "code",
   "execution_count": 70,
   "metadata": {},
   "outputs": [
    {
     "data": {
      "text/plain": [
       "[2, 3]"
      ]
     },
     "execution_count": 70,
     "metadata": {},
     "output_type": "execute_result"
    }
   ],
   "source": [
    "mylist"
   ]
  },
  {
   "cell_type": "code",
   "execution_count": 71,
   "metadata": {
    "collapsed": true
   },
   "outputs": [],
   "source": [
    "output = adding_element(mylist)"
   ]
  },
  {
   "cell_type": "code",
   "execution_count": 72,
   "metadata": {},
   "outputs": [
    {
     "data": {
      "text/plain": [
       "[2, 3, 5]"
      ]
     },
     "execution_count": 72,
     "metadata": {},
     "output_type": "execute_result"
    }
   ],
   "source": [
    "output"
   ]
  },
  {
   "cell_type": "code",
   "execution_count": null,
   "metadata": {
    "collapsed": true
   },
   "outputs": [],
   "source": []
  }
 ],
 "metadata": {
  "kernelspec": {
   "display_name": "Python 3",
   "language": "python",
   "name": "python3"
  },
  "language_info": {
   "codemirror_mode": {
    "name": "ipython",
    "version": 3
   },
   "file_extension": ".py",
   "mimetype": "text/x-python",
   "name": "python",
   "nbconvert_exporter": "python",
   "pygments_lexer": "ipython3",
   "version": "3.6.7"
  }
 },
 "nbformat": 4,
 "nbformat_minor": 2
}
